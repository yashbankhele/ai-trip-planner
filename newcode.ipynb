{
 "cells": [
  {
   "cell_type": "code",
   "execution_count": null,
   "id": "9e2b4229",
   "metadata": {},
   "outputs": [],
   "source": [
    "pip install textblob\n",
    "pip install pandas "
   ]
  },
  {
   "cell_type": "code",
   "execution_count": null,
   "id": "f86632f7",
   "metadata": {},
   "outputs": [],
   "source": [
    "from textblob import TextBlob\n",
    "import pandas as pd\n",
    "import os\n",
    "\n",
    "def get_sentiment(polarity):\n",
    "    if polarity >0: \n",
    "        return \"Positive 🙂\"\n",
    "    elif polarity <0: \n",
    "        return \"Negative 🥲\"\n",
    "    else: \n",
    "        return \"Neutral\"\n",
    "    \n",
    "def analyze_text(text):\n",
    "    blob= TextBlob(text)\n",
    "    polarity=blob.sentiment.polarity\n",
    "    subjectivity=blob.sentiment.subjectivity\n",
    "    sentiment=get_sentiment(polarity)\n",
    "    print(f\"Sentiment: {sentiment}\")\n",
    "    print(f\"Polarity: {polarity}\")\n",
    "    print(f\"Subjectivity: {subjectivity}\")\n",
    "    \n",
    "def analyze_csv(file_path):\n",
    "    df=pd.read_csv(file_path)\n",
    "    df[\"Polarity\"]= df[\"Review\"].apply(lambda x: TextBlob(str(x)).sentiment.polarity)\n",
    "    df[\"Sentiment\"]=df[\"Polarity\"].apply(get_sentiment)\n",
    "    print(df[[\"Review\",\"Polarity\",\"Sentiment\"]].head())\n",
    "    df.to_csv(\"Review_sentiment_output.csv\",index=False)\n",
    "    print(\"Full sentiment output saved to review sentiment output.csv\")\n",
    "    \n",
    "if __name__==\"__main__\":\n",
    "    print(\"Sentiment analysis tool -- powered by textblob\")\n",
    "    choice=input(\"Do you want to analyze Text or CSV file? Enter 1 for TEXT file and 2 for CSV file.\")\n",
    "    if choice ==\"1\":\n",
    "        user_text=input(\"Enter your text:\")\n",
    "        analyze_text(user_text)\n",
    "    elif choice==\"2\":\n",
    "        csv_file= input(\"Enter  the csv file name (e.g review.csv):\")\n",
    "        if os.path.exists(csv_file):\n",
    "            analyze_csv(csv_file)\n",
    "        else:\n",
    "            print(\"File not found\")\n",
    "    else: \n",
    "        print(\"invalid choice\")"
   ]
  }
 ],
 "metadata": {
  "kernelspec": {
   "display_name": "base",
   "language": "python",
   "name": "python3"
  },
  "language_info": {
   "codemirror_mode": {
    "name": "ipython",
    "version": 3
   },
   "file_extension": ".py",
   "mimetype": "text/x-python",
   "name": "python",
   "nbconvert_exporter": "python",
   "pygments_lexer": "ipython3",
   "version": "3.13.5"
  }
 },
 "nbformat": 4,
 "nbformat_minor": 5
}
