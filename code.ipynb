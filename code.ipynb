pip install textblob
pip install pandas

from textblob import TextBlob
import pandas as pd
import os

def get_sentiment(polarity):
    if polarity >0: 
        return "Positive 🙂"
    elif polarity <0: 
        return "Negative 🥲"
    else: 
        return "Neutral"
    
def analyze_text(text):
    blob= TextBlob(text)
    polarity=blob.sentiment.polarity
    subjectivity=blob.sentiment.subjectivity
    sentiment=get_sentiment(polarity)
    print(f"Sentiment: {sentiment}")
    print(f"Polarity: {polarity}")
    print(f"Subjectivity: {subjectivity}")
    
def analyze_csv(file_path):
    df=pd.read_csv(file_path)
    df["Polarity"]= df["Review"].apply(lambda x: TextBlob(str(x)).sentiment.polarity)
    df["Sentiment"]=df["Polarity"].apply(get_sentiment)
    print(df[["Review","Polarity","Sentiment"]].head())
    df.to_csv("Review_sentiment_output.csv",index=False)
    print("Full sentiment output saved to review sentiment output.csv")
    
if __name__=="__main__":
    print("Sentiment analysis tool -- powered by textblob")
    choice=input("Do you want to analyze Text or CSV file? Enter 1 for TEXT file and 2 for CSV file.")
    if choice =="1":
        user_text=input("Enter your text:")
        analyze_text(user_text)
    elif choice=="2":
        csv_file= input("Enter  the csv file name (e.g review.csv):")
        if os.path.exists(csv_file):
            analyze_csv(csv_file)
        else:
            print("File not found")
    else: 
        print("invalid choice")
